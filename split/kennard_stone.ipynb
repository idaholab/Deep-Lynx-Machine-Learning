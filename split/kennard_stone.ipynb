{
 "cells": [
  {
   "cell_type": "code",
   "execution_count": null,
   "id": "2f571fa7",
   "metadata": {},
   "outputs": [],
   "source": [
    "# Copyright 2021, Battelle Energy Alliance, LLC\n",
    "\n",
    "library(prospectr)\n",
    "library(reticulate)\n",
    "library(dotenv)\n",
    "library(jsonlite)"
   ]
  },
  {
   "cell_type": "code",
   "execution_count": null,
   "id": "9bee2b49",
   "metadata": {},
   "outputs": [],
   "source": [
    "# Split working directory path\n",
    "pwd = getwd()\n",
    "split_path = function(x) if (dirname(x)==x) x else c(basename(x),split_path(dirname(x)))\n",
    "path_list = split_path(pwd)\n",
    "\n",
    "# Change working directory\n",
    "if (path_list[1] == \"split\"){\n",
    "    new_pwd = \"\"\n",
    "    for (i in 3:length(path_list)-1) {\n",
    "        new_pwd = paste(path_list[i], new_pwd, sep=path_list[length(path_list)])  \n",
    "    }\n",
    "    new_pwd = paste(path_list[length(path_list)], new_pwd, sep=\"\")\n",
    "    setwd(new_pwd)\n",
    "}"
   ]
  },
  {
   "cell_type": "code",
   "execution_count": null,
   "id": "3705b7a3",
   "metadata": {},
   "outputs": [],
   "source": [
    "# Load ML Adapter data\n",
    "load_dot_env(file = \".env\")\n",
    "file_path = Sys.getenv(\"ML_ADAPTER_OBJECT_LOCATION\")\n",
    "data = fromJSON(txt=file_path)"
   ]
  },
  {
   "cell_type": "code",
   "execution_count": null,
   "id": "6f50f6be",
   "metadata": {},
   "outputs": [],
   "source": [
    "# Determine X by reading the .csv file\n",
    "split_file = data$DATASET\n",
    "dataset = read.csv(split_file, check.names=FALSE)\n",
    "#print(dim(dataset))"
   ]
  },
  {
   "cell_type": "code",
   "execution_count": null,
   "id": "f8b22a38",
   "metadata": {},
   "outputs": [],
   "source": [
    "# Filter dataset to contain only numeric columns\n",
    "dataset_numeric = dataset[sapply(dataset, is.numeric)]\n",
    "#print(dim(dataset_numeric))"
   ]
  },
  {
   "cell_type": "code",
   "execution_count": null,
   "id": "2f68deca",
   "metadata": {},
   "outputs": [],
   "source": [
    "# Determine N and k\n",
    "\n",
    "split_methods = Sys.getenv(\"SPLIT\")\n",
    "split_methods = fromJSON(txt=split_methods)\n",
    "N = split_methods$kennard_stone$N\n",
    "k = split_methods$kennard_stone$k"
   ]
  },
  {
   "cell_type": "code",
   "execution_count": null,
   "id": "aad85d3e",
   "metadata": {},
   "outputs": [],
   "source": [
    "# Take a sample of the dataset\n",
    "if (nrow(dataset_numeric) > N){\n",
    "    set.seed(10000)\n",
    "    X = dataset_numeric[sample(nrow(dataset_numeric), N),]\n",
    "    set.seed(10000)\n",
    "    X_full = dataset[sample(nrow(dataset), N),]\n",
    "} else{\n",
    "    X = dataset_numeric\n",
    "}  \n",
    "#print(dim(X))"
   ]
  },
  {
   "cell_type": "code",
   "execution_count": null,
   "id": "243abb82",
   "metadata": {},
   "outputs": [],
   "source": [
    "# Determine k proportionately if N is greater than the rows of X.\n",
    "if (N > nrow(X)){\n",
    "    fraction = k / N\n",
    "    k = ceiling(nrow(X) * fraction)\n",
    "    #print(fraction)\n",
    "    #print(k)\n",
    "}"
   ]
  },
  {
   "cell_type": "code",
   "execution_count": null,
   "id": "3cafb0c5",
   "metadata": {},
   "outputs": [],
   "source": [
    "# Run kennard stone algorithm\n",
    "start_time <- Sys.time()\n",
    "selection = kenStone(X, k=k, metric = \"euclid\")\n",
    "end_time = Sys.time()\n",
    "#print(end_time - start_time)"
   ]
  },
  {
   "cell_type": "code",
   "execution_count": null,
   "id": "e213fab5",
   "metadata": {},
   "outputs": [],
   "source": [
    "# Get training and testing file paths\n",
    "pwd = getwd()\n",
    "split_path = function(x) if (dirname(x)==x) x else c(basename(x),split_path(dirname(x)))\n",
    "path_list = split_path(pwd)\n",
    "training_path = paste(pwd, \"data\", \"training_set.csv\", sep=path_list[length(path_list)])\n",
    "testing_path = paste(pwd, \"data\", \"testing_set.csv\", sep=path_list[length(path_list)])\n",
    "\n",
    "dataset_indices = as.numeric(rownames(dataset))\n",
    "train_indices = as.numeric(rownames(X_full[selection$model,]))\n",
    "test_indices = setdiff(dataset_indices, train_indices)\n",
    "# Write training and testing sets to a csv file\n",
    "write.csv(x=dataset[train_indices,], file=training_path, row.names=FALSE)\n",
    "write.csv(x=dataset[test_indices,], file=testing_path, row.names=FALSE)"
   ]
  },
  {
   "cell_type": "code",
   "execution_count": null,
   "id": "732fb05e",
   "metadata": {},
   "outputs": [],
   "source": []
  }
 ],
 "metadata": {
  "kernelspec": {
   "display_name": "R",
   "language": "R",
   "name": "ir"
  },
  "language_info": {
   "codemirror_mode": "r",
   "file_extension": ".r",
   "mimetype": "text/x-r-source",
   "name": "R",
   "pygments_lexer": "r",
   "version": "3.6.3"
  }
 },
 "nbformat": 4,
 "nbformat_minor": 5
}
