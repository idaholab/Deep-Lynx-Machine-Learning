{
 "cells": [
  {
   "cell_type": "code",
   "execution_count": null,
   "id": "3f0e7575",
   "metadata": {},
   "outputs": [],
   "source": [
    "# Copyright 2021, Battelle Energy Alliance, LLC\n",
    "\n",
    "import os\n",
    "import sys\n",
    "import json\n",
    "import pandas as pd\n",
    "import re\n",
    "\n",
    "# Change working directory if not the project directory\n",
    "current_dir = os.getcwd()\n",
    "folders = re.split('\\/', current_dir)\n",
    "\"\"\"\n",
    "Note: Make these modifications in this sample code for actual use\n",
    "    1. Change from \"user_guide\" to \"variable_selection\"\n",
    "    2. Remove one of the '..' in the os.path.join\n",
    "\"\"\" \n",
    "if folders[len(folders)-1] == 'user_guide':\n",
    "    os.chdir(os.path.abspath(os.path.join('..', '..')))\n",
    "\n",
    "# Load environment variables from .env file    \n",
    "!pip install python-dotenv\n",
    "%load_ext dotenv\n",
    "%dotenv\n",
    "import settings\n",
    "#%pwd"
   ]
  },
  {
   "cell_type": "code",
   "execution_count": null,
   "id": "5781dde8",
   "metadata": {},
   "outputs": [],
   "source": [
    "def variable_selection_sample(dataset=None):\n",
    "    \"\"\"\n",
    "    Determine the independent variables and dependent variable foreach model that will be created\n",
    "    \"\"\"\n",
    "    # Create variables\n",
    "    models = list()\n",
    "    dataset_columns = ['Dataset_Column01', 'Dataset_Column02', 'Dataset_Column03', 'Dataset_Column04', 'Dataset_Column05']\n",
    "    \n",
    "    # Create dictionary of models with the specified name, data, and datasets\n",
    "    for i in range(len(dataset_columns)):\n",
    "        model = dict()\n",
    "        model['independent_variables'] = [j for j in dataset_columns if j != dataset_columns[i]]\n",
    "        model['dependent_variables'] = [dataset_columns[i]]\n",
    "        models.append(model)\n",
    "    return models"
   ]
  },
  {
   "cell_type": "code",
   "execution_count": null,
   "id": "19563f41",
   "metadata": {},
   "outputs": [],
   "source": [
    "def create_json_file(models):\n",
    "    \"\"\"\n",
    "    Write a JSON file containing JSON objects\n",
    "    \"\"\"\n",
    "    #location = data[\"VARIABLE_SELECTION\"][\"output_file\"]\n",
    "    location = 'variable_selection/user_guide/sample.json'\n",
    "    with open(location, \"w\") as f:\n",
    "        json.dump(models, f, indent=2)\n",
    "        f.close()"
   ]
  },
  {
   "cell_type": "code",
   "execution_count": null,
   "id": "5663e3f9",
   "metadata": {},
   "outputs": [],
   "source": [
    "def main():\n",
    "    \"\"\"\n",
    "    Generates a JSON file of JSON objects of each model\n",
    "    \"\"\"\n",
    "    # Load data\n",
    "    dataset = None\n",
    "    \"\"\"\n",
    "    with open(os.getenv(\"ML_ADAPTER_OBJECT_LOCATION\"), 'r') as fp:\n",
    "        data = json.load(fp)\n",
    "    dataset = data[\"DATASET\"]\n",
    "    \"\"\"\n",
    "    \n",
    "    # Create JSON objects of each model\n",
    "    models = variable_selection_sample(dataset)\n",
    "    \n",
    "    # Generate a JSON File\n",
    "    create_json_file(models)"
   ]
  },
  {
   "cell_type": "code",
   "execution_count": null,
   "id": "6fa86617",
   "metadata": {},
   "outputs": [],
   "source": [
    "main()"
   ]
  },
  {
   "cell_type": "code",
   "execution_count": null,
   "id": "3270c570",
   "metadata": {},
   "outputs": [],
   "source": []
  }
 ],
 "metadata": {
  "kernelspec": {
   "display_name": "Python 3 (ipykernel)",
   "language": "python",
   "name": "python3"
  },
  "language_info": {
   "codemirror_mode": {
    "name": "ipython",
    "version": 3
   },
   "file_extension": ".py",
   "mimetype": "text/x-python",
   "name": "python",
   "nbconvert_exporter": "python",
   "pygments_lexer": "ipython3",
   "version": "3.8.12"
  }
 },
 "nbformat": 4,
 "nbformat_minor": 5
}
